{
 "cells": [
  {
   "cell_type": "markdown",
   "metadata": {},
   "source": [
    "This exercise will require you to pull some data from the Qunadl API. Qaundl is currently the most widely used aggregator of financial market data."
   ]
  },
  {
   "cell_type": "markdown",
   "metadata": {},
   "source": [
    "As a first step, you will need to register a free account on the http://www.quandl.com website."
   ]
  },
  {
   "cell_type": "markdown",
   "metadata": {},
   "source": [
    "After you register, you will be provided with a unique API key, that you should store:"
   ]
  },
  {
   "cell_type": "code",
   "execution_count": 1,
   "metadata": {
    "collapsed": true
   },
   "outputs": [],
   "source": [
    "# Store the API key as a string - according to PEP8, constants are always named in all upper case\n",
    "API_KEY = ''\n",
    "url = 'https://www.quandl.com/api/v3/datasets/FSE/AFX_X-Carl-Zeiss-Meditec-AFX_X'"
   ]
  },
  {
   "cell_type": "markdown",
   "metadata": {},
   "source": [
    "Qaundl has a large number of data sources, but, unfortunately, most of them require a Premium subscription. Still, there are also a good number of free datasets."
   ]
  },
  {
   "cell_type": "markdown",
   "metadata": {},
   "source": [
    "For this mini project, we will focus on equities data from the Frankfurt Stock Exhange (FSE), which is available for free. We'll try and analyze the stock prices of a company called Carl Zeiss Meditec, which manufactures tools for eye examinations, as well as medical lasers for laser eye surgery: https://www.zeiss.com/meditec/int/home.html. The company is listed under the stock ticker AFX_X."
   ]
  },
  {
   "cell_type": "markdown",
   "metadata": {},
   "source": [
    "You can find the detailed Quandl API instructions here: https://docs.quandl.com/docs/time-series"
   ]
  },
  {
   "cell_type": "markdown",
   "metadata": {},
   "source": [
    "While there is a dedicated Python package for connecting to the Quandl API, we would prefer that you use the *requests* package, which can be easily downloaded using *pip* or *conda*. You can find the documentation for the package here: http://docs.python-requests.org/en/master/ "
   ]
  },
  {
   "cell_type": "markdown",
   "metadata": {},
   "source": [
    "Finally, apart from the *requests* package, you are encouraged to not use any third party Python packages, such as *pandas*, and instead focus on what's available in the Python Standard Library (the *collections* module might come in handy: https://pymotw.com/3/collections/ ).\n",
    "Also, since you won't have access to DataFrames, you are encouraged to us Python's native data structures - preferably dictionaries, though some questions can also be answered using lists.\n",
    "You can read more on these data structures here: https://docs.python.org/3/tutorial/datastructures.html"
   ]
  },
  {
   "cell_type": "markdown",
   "metadata": {},
   "source": [
    "Keep in mind that the JSON responses you will be getting from the API map almost one-to-one to Python's dictionaries. Unfortunately, they can be very nested, so make sure you read up on indexing dictionaries in the documentation provided above."
   ]
  },
  {
   "cell_type": "code",
   "execution_count": 2,
   "metadata": {
    "collapsed": true
   },
   "outputs": [],
   "source": [
    "# First, import the relevant modules\n",
    "import requests\n",
    "import collections"
   ]
  },
  {
   "cell_type": "code",
   "execution_count": 3,
   "metadata": {
    "collapsed": true
   },
   "outputs": [],
   "source": [
    "# Now, call the Quandl API and pull out a small sample of the data (only one day) to get a glimpse\n",
    "# into the JSON structure that will be returned\n",
    "sample = requests.get(url, params={'key' : API_KEY, 'rows' : 1})"
   ]
  },
  {
   "cell_type": "code",
   "execution_count": 4,
   "metadata": {
    "collapsed": true,
    "tags": []
   },
   "outputs": [
    {
     "output_type": "execute_result",
     "data": {
      "text/plain": "{'dataset': {'id': 10095370,\n  'dataset_code': 'AFX_X',\n  'database_code': 'FSE',\n  'name': 'Carl Zeiss Meditec (AFX_X)',\n  'description': 'Stock Prices for Carl Zeiss Meditec (2020-08-17) from the Frankfurt Stock Exchange.<br><br>Trading System: Xetra<br><br>ISIN: DE0005313704',\n  'refreshed_at': '2020-08-31T22:16:17.824Z',\n  'newest_available_date': '2020-08-31',\n  'oldest_available_date': '2000-06-07',\n  'column_names': ['Date',\n   'Open',\n   'High',\n   'Low',\n   'Close',\n   'Change',\n   'Traded Volume',\n   'Turnover',\n   'Last Price of the Day',\n   'Daily Traded Units',\n   'Daily Turnover'],\n  'frequency': 'daily',\n  'type': 'Time Series',\n  'premium': False,\n  'limit': 1,\n  'transform': None,\n  'column_index': None,\n  'start_date': '2000-06-07',\n  'end_date': '2020-08-31',\n  'data': [['2020-08-31',\n    95.75,\n    95.85,\n    93.9,\n    94.4,\n    None,\n    120923.0,\n    11452465.05,\n    None,\n    None,\n    None]],\n  'collapse': None,\n  'order': None,\n  'database_id': 6129}}"
     },
     "metadata": {},
     "execution_count": 4
    }
   ],
   "source": [
    "# Inspect the JSON structure of the object you created, and take note of how nested it is,\n",
    "# as well as the overall structure\n",
    "sample.json()"
   ]
  },
  {
   "cell_type": "markdown",
   "metadata": {},
   "source": [
    "These are your tasks for this mini project:\n",
    "\n",
    "1. Collect data from the Franfurt Stock Exchange, for the ticker AFX_X, for the whole year 2017 (keep in mind that the date format is YYYY-MM-DD).\n",
    "2. Convert the returned JSON object into a Python dictionary.\n",
    "3. Calculate what the highest and lowest opening prices were for the stock in this period.\n",
    "4. What was the largest change in any one day (based on High and Low price)?\n",
    "5. What was the largest change between any two days (based on Closing Price)?\n",
    "6. What was the average daily trading volume during this year?\n",
    "7. (Optional) What was the median trading volume during this year. (Note: you may need to implement your own function for calculating the median.)"
   ]
  },
  {
   "cell_type": "code",
   "execution_count": 5,
   "metadata": {
    "collapsed": true,
    "tags": []
   },
   "outputs": [],
   "source": [
    "#Collecting data from Franfurt Stock Exchange (FSE)\n",
    "#for Carl Zeiss Medite (AFX_X) for the year 2017\n",
    "r = requests.get(url, params={'key':API_KEY, 'start_date':'2016-12-31', 'end_date': '2017-12-31'})\n",
    "json = r.json()"
   ]
  },
  {
   "cell_type": "code",
   "execution_count": 6,
   "metadata": {},
   "outputs": [],
   "source": [
    "#Convert JSON file to Python dictionary\n",
    "d = dict(json)"
   ]
  },
  {
   "cell_type": "code",
   "execution_count": 7,
   "metadata": {
    "tags": []
   },
   "outputs": [
    {
     "output_type": "stream",
     "name": "stdout",
     "text": "Lowest opening: 34.0, Highest opening: 53.11\n"
    }
   ],
   "source": [
    "#Highest and Lowest opening prices for the stock in the 2017 period\n",
    "#Runs through all 'Open' columns of 2017 dates and finds lowest and highest\n",
    "#e.g. print(d['dataset']['data'][0][3]) <-- returns the 'Low' of the last day of the year\n",
    "opening = []\n",
    "for date in d['dataset']['data']:\n",
    "    opening.append(date[1])\n",
    "print(f'Lowest opening: {min(filter(None, opening))}, Highest opening: {max(filter(None, opening))}')"
   ]
  },
  {
   "cell_type": "code",
   "execution_count": 8,
   "metadata": {
    "tags": []
   },
   "outputs": [
    {
     "output_type": "stream",
     "name": "stdout",
     "text": "Largest change: 2.8100000000000023\n"
    }
   ],
   "source": [
    "#Largest change in any one day (based on High and Low price)\n",
    "#Runs through all 'High' and 'Low' prices and appended the difference to changes list\n",
    "#Then find the largest change\n",
    "changes = []\n",
    "for date in d['dataset']['data']:\n",
    "    changes.append(date[2]-date[3])\n",
    "print(f'Largest change: {max(changes)}')"
   ]
  },
  {
   "cell_type": "code",
   "execution_count": 9,
   "metadata": {
    "tags": []
   },
   "outputs": [
    {
     "output_type": "stream",
     "name": "stdout",
     "text": "Largest change between two days: 2.559999999999995\n"
    }
   ],
   "source": [
    "#Largest change between any two days (based on Closing price)\n",
    "#Runs through 'Closing' prices and appends the difference to the difference of two days list ('two')\n",
    "#Then prints the largest difference\n",
    "two = []\n",
    "for date in d['dataset']['data'][1:]:\n",
    "    two.append(abs(date[4] - d['dataset']['data'][d['dataset']['data'].index(date)-1][4]))\n",
    "print(f'Largest change between two days: {max(two)}')"
   ]
  },
  {
   "cell_type": "code",
   "execution_count": 10,
   "metadata": {
    "tags": []
   },
   "outputs": [
    {
     "output_type": "stream",
     "name": "stdout",
     "text": "Average daily trading volume: 89124.33725490196\n"
    }
   ],
   "source": [
    "#Average daily trading volume during the year\n",
    "#Runs through 'Trading Volume' and appends the differences to volume list\n",
    "#Then finds the average within the list\n",
    "volume = []\n",
    "for v in d['dataset']['data']:\n",
    "    volume.append(v[6])\n",
    "average_volume = sum(volume)/len(volume)\n",
    "print(f'Average daily trading volume: {average_volume}')"
   ]
  },
  {
   "cell_type": "code",
   "execution_count": 14,
   "metadata": {
    "tags": []
   },
   "outputs": [
    {
     "output_type": "stream",
     "name": "stdout",
     "text": "Median Trading Volume for 2017: 76286.0\n"
    }
   ],
   "source": [
    "#(Optional) Median trading volume during the year\n",
    "def findMedian(list):\n",
    "    '''Finds median of a given list'''\n",
    "    list.sort()\n",
    "    mid = len(list) // 2\n",
    "    med = (list[mid] + list[~mid]) / 2 #Finds averages between middle index and not middle index\n",
    "    return med\n",
    "print(f'Median Trading Volume for 2017: {findMedian(volume)}')"
   ]
  },
  {
   "cell_type": "code",
   "execution_count": null,
   "metadata": {},
   "outputs": [],
   "source": []
  }
 ],
 "metadata": {
  "kernelspec": {
   "display_name": "Python 3.7.6 64-bit ('base': conda)",
   "language": "python",
   "name": "python_defaultSpec_1598915274012"
  },
  "language_info": {
   "codemirror_mode": {
    "name": "ipython",
    "version": 2
   },
   "file_extension": ".py",
   "mimetype": "text/x-python",
   "name": "python",
   "nbconvert_exporter": "python",
   "pygments_lexer": "ipython2",
   "version": "3.7.6-final"
  }
 },
 "nbformat": 4,
 "nbformat_minor": 2
}